{
 "cells": [
  {
   "cell_type": "code",
   "execution_count": 24,
   "metadata": {},
   "outputs": [],
   "source": [
    "# Import modules to be used\n",
    "\n",
    "from keras.preprocessing.image import ImageDataGenerator, array_to_img, img_to_array, load_img\n",
    "from keras import applications\n",
    "from keras import optimizers\n",
    "from keras.models import Sequential, Model \n",
    "from keras.layers import Dropout, Flatten, Dense, GlobalAveragePooling2D\n",
    "from keras import backend as k \n",
    "from keras.callbacks import ModelCheckpoint, LearningRateScheduler, TensorBoard, EarlyStopping\n",
    "from keras.models import load_model\n",
    "from os import listdir\n",
    "from os.path import join\n",
    "import pandas as pd"
   ]
  },
  {
   "cell_type": "code",
   "execution_count": 2,
   "metadata": {},
   "outputs": [],
   "source": [
    "img_width, img_height = 224, 224\n",
    "train_data_dir = \"data/train\"\n",
    "validation_data_dir = \"data/validation\"\n",
    "nb_train_samples = 777 + 761\n",
    "nb_validation_samples = 194 + 190\n",
    "batch_size = 8\n",
    "epochs = 50"
   ]
  },
  {
   "cell_type": "code",
   "execution_count": 3,
   "metadata": {},
   "outputs": [],
   "source": [
    "# Load up the mobilenet architecture as a base\n",
    "\n",
    "model = applications.MobileNet(weights = \"imagenet\", include_top=False, input_shape = (img_width, img_height, 3))"
   ]
  },
  {
   "cell_type": "code",
   "execution_count": 4,
   "metadata": {},
   "outputs": [],
   "source": [
    "#Adding custom Layers \n",
    "\n",
    "x = model.output\n",
    "x = Flatten()(x)\n",
    "x = Dense(16, activation=\"relu\")(x)\n",
    "x = Dropout(0.5)(x)\n",
    "x = Dense(16, activation=\"relu\")(x)\n",
    "predictions = Dense(1, activation=\"sigmoid\")(x)\n",
    "\n",
    "model_final = Model(model.input, predictions)"
   ]
  },
  {
   "cell_type": "code",
   "execution_count": 5,
   "metadata": {},
   "outputs": [],
   "source": [
    "# Load the pretrained model\n",
    "model_final.load_weights(\"mobilenet_1.h5\")\n"
   ]
  },
  {
   "cell_type": "code",
   "execution_count": 6,
   "metadata": {},
   "outputs": [
    {
     "name": "stdout",
     "output_type": "stream",
     "text": [
      "Found 2180 images belonging to 3 classes.\n"
     ]
    }
   ],
   "source": [
    "datagen = ImageDataGenerator(rescale=1./255)\n",
    "\n",
    "test_generator = datagen.flow_from_directory(\n",
    "        'data',\n",
    "        target_size=(img_width, img_height),\n",
    "        batch_size=1,\n",
    "        class_mode=None,  # this means our generator will only yield batches of data, no labels\n",
    "        shuffle=False)\n"
   ]
  },
  {
   "cell_type": "code",
   "execution_count": 7,
   "metadata": {},
   "outputs": [
    {
     "data": {
      "text/plain": [
       "array([[0.10323512]], dtype=float32)"
      ]
     },
     "execution_count": 7,
     "metadata": {},
     "output_type": "execute_result"
    }
   ],
   "source": [
    "model_final.predict_generator(test_generator, steps=1)"
   ]
  },
  {
   "cell_type": "code",
   "execution_count": 8,
   "metadata": {},
   "outputs": [],
   "source": [
    "prediction = model_final.predict_generator(test_generator, steps=1)"
   ]
  },
  {
   "cell_type": "code",
   "execution_count": 9,
   "metadata": {},
   "outputs": [
    {
     "data": {
      "text/plain": [
       "(1, 1)"
      ]
     },
     "execution_count": 9,
     "metadata": {},
     "output_type": "execute_result"
    }
   ],
   "source": [
    "prediction.shape"
   ]
  },
  {
   "cell_type": "code",
   "execution_count": 10,
   "metadata": {},
   "outputs": [
    {
     "data": {
      "text/plain": [
       "array([[0.10323512]], dtype=float32)"
      ]
     },
     "execution_count": 10,
     "metadata": {},
     "output_type": "execute_result"
    }
   ],
   "source": [
    "# Test sample with no rust in the image\n",
    "# Output should be low showing low likelyhood of rust in the image\n",
    "prediction"
   ]
  },
  {
   "cell_type": "code",
   "execution_count": 11,
   "metadata": {},
   "outputs": [],
   "source": [
    "prediction = model_final.predict_generator(test_generator, steps=1)"
   ]
  },
  {
   "cell_type": "code",
   "execution_count": 12,
   "metadata": {},
   "outputs": [
    {
     "data": {
      "text/plain": [
       "array([[0.10323512]], dtype=float32)"
      ]
     },
     "execution_count": 12,
     "metadata": {},
     "output_type": "execute_result"
    }
   ],
   "source": [
    "# Test sample with rust in the image\n",
    "# Output should be high showing high likelyhood of rust in the image\n",
    "prediction"
   ]
  },
  {
   "cell_type": "code",
   "execution_count": 13,
   "metadata": {},
   "outputs": [],
   "source": [
    "prediction = model_final.predict_generator(test_generator, steps=1)"
   ]
  },
  {
   "cell_type": "code",
   "execution_count": 14,
   "metadata": {},
   "outputs": [
    {
     "data": {
      "text/plain": [
       "array([[0.10323512]], dtype=float32)"
      ]
     },
     "execution_count": 14,
     "metadata": {},
     "output_type": "execute_result"
    }
   ],
   "source": [
    "# Test sample with no rust in the image\n",
    "# Output should be low showing low likelyhood of rust in the image\n",
    "prediction"
   ]
  },
  {
   "cell_type": "code",
   "execution_count": 15,
   "metadata": {},
   "outputs": [],
   "source": [
    "def image_predict(image, img_width=224, img_height=224):\n",
    "    img = load_img(str(image))  # this is a PIL image\n",
    "    x = img.resize((img_width, img_height))\n",
    "    x = img_to_array(x)  # this is a Numpy array with shape (224, 224, 3)\n",
    "    x = x.reshape((1,) + x.shape)  # this is a Numpy array with shape (1, 224, 224), 3\n",
    "    x = x/255.\n",
    "    return model_final.predict(x)\n",
    "\n",
    "# img = load_img('data/train/rust/5_0052 (31) (Small).jpg')  # this is a PIL image\n",
    "# x = img.resize((img_width, img_height))\n",
    "# x = img_to_array(x)  # this is a Numpy array with shape (224, 224, 3)\n",
    "# x = x.reshape((1,) + x.shape)  # this is a Numpy array with shape (1, 224, 224), 3\n",
    "# x = x/255."
   ]
  },
  {
   "cell_type": "code",
   "execution_count": 18,
   "metadata": {},
   "outputs": [],
   "source": [
    "test_data_dir = 'data/test'"
   ]
  },
  {
   "cell_type": "code",
   "execution_count": 19,
   "metadata": {},
   "outputs": [],
   "source": [
    "test_images = listdir(test_data_dir)"
   ]
  },
  {
   "cell_type": "code",
   "execution_count": 20,
   "metadata": {},
   "outputs": [
    {
     "data": {
      "text/plain": [
       "['1_0043 - 3 (Small).JPG',\n",
       " 'DSCN6340 (Large).JPG',\n",
       " 'DSCN6341 (Large).JPG',\n",
       " 'DSCN6342 (Large).JPG',\n",
       " 'DSCN6343 (Large).JPG',\n",
       " 'DSCN6344 (Large).JPG',\n",
       " 'DSCN6345 (Large).JPG',\n",
       " 'DSCN6346 (Large).JPG',\n",
       " 'DSCN6347 (Large).JPG',\n",
       " 'DSCN6348 (Large).JPG',\n",
       " 'DSCN6349 (Large).JPG',\n",
       " 'DSCN6350 (Large).JPG',\n",
       " 'DSCN6351 (Large).JPG',\n",
       " 'DSCN6352 (Large).JPG',\n",
       " 'DSCN6353 (Large).JPG',\n",
       " 'DSCN6354 (Large).JPG',\n",
       " 'DSCN6355 (Large).JPG',\n",
       " 'DSCN6356 (Large).JPG',\n",
       " 'DSCN6357 (Large).JPG',\n",
       " 'DSCN6358 (Large).JPG',\n",
       " 'DSCN6359 (Large).JPG',\n",
       " 'DSCN6360 (Large).JPG',\n",
       " 'DSCN6361 (Large).JPG',\n",
       " 'DSCN6362 (Large).JPG',\n",
       " 'DSCN6363 (Large).JPG',\n",
       " 'DSCN6364 (Large).JPG',\n",
       " 'DSCN6365 (Large).JPG',\n",
       " 'DSCN6366 (Large).JPG',\n",
       " 'DSCN6367 (Large).JPG',\n",
       " 'DSCN6368 (Large).JPG',\n",
       " 'DSCN6369 (Large).JPG',\n",
       " 'DSCN6370 (Large).JPG',\n",
       " 'DSCN6371 (Large).JPG',\n",
       " 'DSCN6372 (Large).JPG',\n",
       " 'DSCN6373 (Large).JPG',\n",
       " 'DSCN6374 (Large).JPG',\n",
       " 'DSCN6375 (Large).JPG',\n",
       " 'DSCN6376 (Large).JPG',\n",
       " 'DSCN6377 (Large).JPG',\n",
       " 'DSCN6378 (Large).JPG',\n",
       " 'DSCN6379 (Large).JPG',\n",
       " 'DSCN6380 (Large).JPG',\n",
       " 'DSCN6381 (Large).JPG',\n",
       " 'DSCN6382 (Large).JPG',\n",
       " 'DSCN6383 (Large).JPG',\n",
       " 'DSCN6384 (Large).JPG',\n",
       " 'DSCN6385 (Large).JPG',\n",
       " 'DSCN6386 (Large).JPG',\n",
       " 'DSCN6387 (Large).JPG',\n",
       " 'DSCN6388 (Large).JPG',\n",
       " 'DSCN6389 (Large).JPG',\n",
       " 'DSCN6390 (Large).JPG',\n",
       " 'DSCN6391 (Large).JPG',\n",
       " 'DSCN6392 (Large).JPG',\n",
       " 'DSCN6393 (Large).JPG',\n",
       " 'DSCN6394 (Large).JPG',\n",
       " 'DSCN6395 (Large).JPG',\n",
       " 'DSCN6396 (Large).JPG',\n",
       " 'DSCN6397 (Large).JPG',\n",
       " 'DSCN6398 (Large).JPG',\n",
       " 'DSCN6399 (Large).JPG',\n",
       " 'DSCN6400 (Large).JPG',\n",
       " 'DSCN6401 (Large).JPG',\n",
       " 'DSCN6402 (Large).JPG',\n",
       " 'DSCN6403 (Large).JPG',\n",
       " 'DSCN6404 (Large).JPG',\n",
       " 'DSCN6405 (Large).JPG',\n",
       " 'DSCN6406 (Large).JPG',\n",
       " 'DSCN6407 (Large).JPG',\n",
       " 'DSCN6408 (Large).JPG',\n",
       " 'DSCN6409 (Large).JPG',\n",
       " 'DSCN6410 (Large).JPG',\n",
       " 'DSCN6411 (Large).JPG',\n",
       " 'DSCN6412 (Large).JPG',\n",
       " 'DSCN6413 (Large).JPG',\n",
       " 'DSCN6414 (Large).JPG',\n",
       " 'DSCN6415 (Large).JPG',\n",
       " 'DSCN6416 (Large).JPG',\n",
       " 'DSCN6417 (Large).JPG',\n",
       " 'DSCN6418 (Large).JPG',\n",
       " 'DSCN6419 (Large).JPG',\n",
       " 'DSCN6420 (Large).JPG',\n",
       " 'DSCN6421 (Large).JPG',\n",
       " 'DSCN6422 (Large).JPG',\n",
       " 'DSCN6423 (Large).JPG',\n",
       " 'DSCN6424 (Large).JPG',\n",
       " 'DSCN6425 (Large).JPG',\n",
       " 'DSCN6426 (Large).JPG',\n",
       " 'DSCN6427 (Large).JPG',\n",
       " 'DSCN6428 (Large).JPG',\n",
       " 'DSCN6429 (Large).JPG',\n",
       " 'DSCN6430 (Large).JPG',\n",
       " 'DSCN6431 (Large).JPG',\n",
       " 'DSCN6432 (Large).JPG',\n",
       " 'DSCN6433 (Large).JPG',\n",
       " 'DSCN6434 (Large).JPG',\n",
       " 'DSCN6435 (Large).JPG',\n",
       " 'DSCN6436 (Large).JPG',\n",
       " 'DSCN6437 (Large).JPG',\n",
       " 'DSCN6438 (Large).JPG',\n",
       " 'DSCN6439 (Large).JPG',\n",
       " 'DSCN6440 (Large).JPG',\n",
       " 'DSCN6441 (Large).JPG',\n",
       " 'DSCN6442 (Large).JPG',\n",
       " 'DSCN6443 (Large).JPG',\n",
       " 'DSCN6444 (Large).JPG',\n",
       " 'DSCN6445 (Large).JPG',\n",
       " 'DSCN6446 (Large).JPG',\n",
       " 'DSCN6447 (Large).JPG',\n",
       " 'DSCN6448 (Large).JPG',\n",
       " 'DSCN6449 (Large).JPG',\n",
       " 'DSCN6450 (Large).JPG',\n",
       " 'DSCN6451 (Large).JPG',\n",
       " 'DSCN6452 (Large).JPG',\n",
       " 'DSCN6453 (Large).JPG',\n",
       " 'DSCN6454 (Large).JPG',\n",
       " 'DSCN6455 (Large).JPG',\n",
       " 'DSCN6456 (Large).JPG',\n",
       " 'DSCN6457 (Large).JPG',\n",
       " 'DSCN6458 (Large).JPG',\n",
       " 'DSCN6459 (Large).JPG',\n",
       " 'DSCN6460 (Large).JPG',\n",
       " 'DSCN6461 (Large).JPG',\n",
       " 'DSCN6462 (Large).JPG',\n",
       " 'DSCN6463 (Large).JPG',\n",
       " 'DSCN6464 (Large).JPG',\n",
       " 'DSCN6465 (Large).JPG',\n",
       " 'DSCN6466 (Large).JPG',\n",
       " 'DSCN6467 (Large).JPG',\n",
       " 'DSCN6468 (Large).JPG',\n",
       " 'DSCN6469 (Large).JPG',\n",
       " 'DSCN6470 (Large).JPG',\n",
       " 'DSCN6471 (Large).JPG',\n",
       " 'DSCN6472 (Large).JPG',\n",
       " 'DSCN6473 (Large).JPG',\n",
       " 'DSCN6474 (Large).JPG',\n",
       " 'DSCN6475 (Large).JPG',\n",
       " 'DSCN6476 (Large).JPG',\n",
       " 'DSCN6477 (Large).JPG',\n",
       " 'DSCN6478 (Large).JPG',\n",
       " 'DSCN6479 (Large).JPG',\n",
       " 'DSCN6480 (Large).JPG',\n",
       " 'DSCN6481 (Large).JPG',\n",
       " 'DSCN6482 (Large).JPG',\n",
       " 'DSCN6483 (Large).JPG',\n",
       " 'DSCN6484 (Large).JPG',\n",
       " 'DSCN6485 (Large).JPG',\n",
       " 'DSCN6486 (Large).JPG',\n",
       " 'DSCN6487 (Large).JPG',\n",
       " 'DSCN6488 (Large).JPG',\n",
       " 'DSCN6489 (Large).JPG',\n",
       " 'DSCN6490 (Large).JPG',\n",
       " 'DSCN6491 (Large).JPG',\n",
       " 'DSCN6492 (Large).JPG',\n",
       " 'DSCN6493 (Large).JPG',\n",
       " 'DSCN6494 (Large).JPG',\n",
       " 'DSCN6495 (Large).JPG',\n",
       " 'DSCN6496 (Large).JPG',\n",
       " 'DSCN6497 (Large).JPG',\n",
       " 'DSCN6498 (Large).JPG',\n",
       " 'DSCN6499 (Large).JPG',\n",
       " 'DSCN6500 (Large).JPG',\n",
       " 'DSCN6501 (Large).JPG',\n",
       " 'DSCN6502 (Large).JPG',\n",
       " 'DSCN6503 (Large).JPG',\n",
       " 'DSCN6504 (Large).JPG',\n",
       " 'DSCN6505 (Large).JPG',\n",
       " 'DSCN6506 (Large).JPG',\n",
       " 'DSCN6507 (Large).JPG',\n",
       " 'DSCN6508 (Large).JPG',\n",
       " 'DSCN6509 (Large).JPG',\n",
       " 'DSCN6510 (Large).JPG',\n",
       " 'DSCN6511 (Large).JPG',\n",
       " 'DSCN6512 (Large).JPG',\n",
       " 'DSCN6513 (Large).JPG',\n",
       " 'DSCN6514 (Large).JPG',\n",
       " 'DSCN6515 (Large).JPG',\n",
       " 'DSCN6516 (Large).JPG',\n",
       " 'DSCN6517 (Large).JPG',\n",
       " 'DSCN6518 (Large).JPG',\n",
       " 'DSCN6519 (Large).JPG',\n",
       " 'DSCN6520 (Large).JPG',\n",
       " 'DSCN6521 (Large).JPG',\n",
       " 'DSCN6522 (Large).JPG',\n",
       " 'DSCN6523 (Large).JPG',\n",
       " 'DSCN6524 (Large).JPG',\n",
       " 'DSCN6525 (Large).JPG',\n",
       " 'DSCN6526 (Large).JPG',\n",
       " 'DSCN6527 (Large).JPG',\n",
       " 'DSCN6528 (Large).JPG',\n",
       " 'DSCN6529 (Large).JPG',\n",
       " 'DSCN6530 (Large).JPG',\n",
       " 'DSCN6531 (Large).JPG',\n",
       " 'DSCN6532 (Large).JPG',\n",
       " 'DSCN6533 (Large).JPG',\n",
       " 'DSCN6534 (Large).JPG',\n",
       " 'DSCN6535 (Large).JPG',\n",
       " 'DSCN6536 (Large).JPG',\n",
       " 'DSCN6537 (Large).JPG',\n",
       " 'DSCN6538 (Large).JPG',\n",
       " 'DSCN6539 (Large).JPG',\n",
       " 'DSCN6540 (Large).JPG',\n",
       " 'DSCN6541 (Large).JPG',\n",
       " 'DSCN6542 (Large).JPG',\n",
       " 'DSCN6543 (Large).JPG',\n",
       " 'DSCN6544 (Large).JPG',\n",
       " 'DSCN6545 (Large).JPG',\n",
       " 'DSCN6546 (Large).JPG',\n",
       " 'DSCN6547 (Large).JPG',\n",
       " 'DSCN6548 (Large).JPG',\n",
       " 'DSCN6549 (Large).JPG',\n",
       " 'DSCN6550 (Large).JPG',\n",
       " 'DSCN6551 (Large).JPG',\n",
       " 'DSCN6552 (Large).JPG',\n",
       " 'DSCN6553 (Large).JPG',\n",
       " 'DSCN6554 (Large).JPG',\n",
       " 'DSCN6555 (Large).JPG',\n",
       " 'DSCN6556 (Large).JPG',\n",
       " 'DSCN6557 (Large).JPG',\n",
       " 'DSCN6558 (Large).JPG',\n",
       " 'DSCN6559 (Large).JPG',\n",
       " 'DSCN6560 (Large).JPG',\n",
       " 'DSCN6561 (Large).JPG',\n",
       " 'DSCN6562 (Large).JPG',\n",
       " 'DSCN6563 (Large).JPG',\n",
       " 'DSCN6564 (Large).JPG',\n",
       " 'DSCN6565 (Large).JPG',\n",
       " 'DSCN6566 (Large).JPG',\n",
       " 'DSCN6567 (Large).JPG',\n",
       " 'DSCN6568 (Large).JPG',\n",
       " 'DSCN6569 (Large).JPG',\n",
       " 'DSCN6570 (Large).JPG',\n",
       " 'DSCN6571 (Large).JPG',\n",
       " 'DSCN6572 (Large).JPG',\n",
       " 'DSCN6573 (Large).JPG',\n",
       " 'DSCN6574 (Large).JPG',\n",
       " 'DSCN6575 (Large).JPG',\n",
       " 'DSCN6576 (Large).JPG',\n",
       " 'DSCN6577 (Large).JPG',\n",
       " 'DSCN6578 (Large).JPG',\n",
       " 'DSCN6579 (Large).JPG',\n",
       " 'DSCN6580 (Large).JPG',\n",
       " 'DSCN6581 (Large).JPG',\n",
       " 'DSCN6582 (Large).JPG',\n",
       " 'DSCN6583 (Large).JPG',\n",
       " 'DSCN6584 (Large).JPG',\n",
       " 'DSCN6585 (Large).JPG',\n",
       " 'DSCN6586 (Large).JPG',\n",
       " 'DSCN6587 (Large).JPG',\n",
       " 'DSCN6588 (Large).JPG',\n",
       " 'DSCN6589 (Large).JPG',\n",
       " 'DSCN6590 (Large).JPG',\n",
       " 'DSCN6591 (Large).JPG',\n",
       " 'DSCN6592 (Large).JPG',\n",
       " 'images.jpg',\n",
       " 'no_rust.jpg',\n",
       " 'no_rust_2.jpg',\n",
       " 'pexels-photo-114108.jpeg']"
      ]
     },
     "execution_count": 20,
     "metadata": {},
     "output_type": "execute_result"
    }
   ],
   "source": [
    "test_images"
   ]
  },
  {
   "cell_type": "code",
   "execution_count": 26,
   "metadata": {},
   "outputs": [],
   "source": [
    "full_predictions = {}"
   ]
  },
  {
   "cell_type": "code",
   "execution_count": 27,
   "metadata": {},
   "outputs": [],
   "source": [
    "for f in test_images:\n",
    "    pred = image_predict(join(test_data_dir, f))\n",
    "    full_predictions[f] = pred.sum()"
   ]
  },
  {
   "cell_type": "code",
   "execution_count": 34,
   "metadata": {},
   "outputs": [
    {
     "ename": "TypeError",
     "evalue": "from_dict() got an unexpected keyword argument 'columns'",
     "output_type": "error",
     "traceback": [
      "\u001b[1;31m---------------------------------------------------------------------------\u001b[0m",
      "\u001b[1;31mTypeError\u001b[0m                                 Traceback (most recent call last)",
      "\u001b[1;32m<ipython-input-34-da0d4c9b68bc>\u001b[0m in \u001b[0;36m<module>\u001b[1;34m()\u001b[0m\n\u001b[1;32m----> 1\u001b[1;33m \u001b[0mdf\u001b[0m \u001b[1;33m=\u001b[0m \u001b[0mpd\u001b[0m\u001b[1;33m.\u001b[0m\u001b[0mDataFrame\u001b[0m\u001b[1;33m.\u001b[0m\u001b[0mfrom_dict\u001b[0m\u001b[1;33m(\u001b[0m\u001b[0mfull_predictions\u001b[0m\u001b[1;33m,\u001b[0m \u001b[0morient\u001b[0m\u001b[1;33m=\u001b[0m\u001b[1;34m'index'\u001b[0m\u001b[1;33m,\u001b[0m \u001b[0mcolumns\u001b[0m\u001b[1;33m=\u001b[0m\u001b[1;33m[\u001b[0m\u001b[1;34m'Image'\u001b[0m\u001b[1;33m,\u001b[0m \u001b[1;34m'Prediction'\u001b[0m\u001b[1;33m]\u001b[0m\u001b[1;33m)\u001b[0m\u001b[1;33m\u001b[0m\u001b[0m\n\u001b[0m",
      "\u001b[1;31mTypeError\u001b[0m: from_dict() got an unexpected keyword argument 'columns'"
     ]
    }
   ],
   "source": [
    "df = pd.DataFrame.from_dict(full_predictions, orient='index')"
   ]
  },
  {
   "cell_type": "code",
   "execution_count": 37,
   "metadata": {},
   "outputs": [],
   "source": [
    "df.columns = ['Prediction']"
   ]
  },
  {
   "cell_type": "code",
   "execution_count": 38,
   "metadata": {},
   "outputs": [
    {
     "data": {
      "text/html": [
       "<div>\n",
       "<style scoped>\n",
       "    .dataframe tbody tr th:only-of-type {\n",
       "        vertical-align: middle;\n",
       "    }\n",
       "\n",
       "    .dataframe tbody tr th {\n",
       "        vertical-align: top;\n",
       "    }\n",
       "\n",
       "    .dataframe thead th {\n",
       "        text-align: right;\n",
       "    }\n",
       "</style>\n",
       "<table border=\"1\" class=\"dataframe\">\n",
       "  <thead>\n",
       "    <tr style=\"text-align: right;\">\n",
       "      <th></th>\n",
       "      <th>Prediction</th>\n",
       "    </tr>\n",
       "  </thead>\n",
       "  <tbody>\n",
       "    <tr>\n",
       "      <th>DSCN6470 (Large).JPG</th>\n",
       "      <td>0.555495</td>\n",
       "    </tr>\n",
       "    <tr>\n",
       "      <th>DSCN6486 (Large).JPG</th>\n",
       "      <td>0.169566</td>\n",
       "    </tr>\n",
       "    <tr>\n",
       "      <th>DSCN6409 (Large).JPG</th>\n",
       "      <td>0.144349</td>\n",
       "    </tr>\n",
       "    <tr>\n",
       "      <th>DSCN6358 (Large).JPG</th>\n",
       "      <td>0.224340</td>\n",
       "    </tr>\n",
       "    <tr>\n",
       "      <th>DSCN6581 (Large).JPG</th>\n",
       "      <td>0.367570</td>\n",
       "    </tr>\n",
       "  </tbody>\n",
       "</table>\n",
       "</div>"
      ],
      "text/plain": [
       "                      Prediction\n",
       "DSCN6470 (Large).JPG    0.555495\n",
       "DSCN6486 (Large).JPG    0.169566\n",
       "DSCN6409 (Large).JPG    0.144349\n",
       "DSCN6358 (Large).JPG    0.224340\n",
       "DSCN6581 (Large).JPG    0.367570"
      ]
     },
     "execution_count": 38,
     "metadata": {},
     "output_type": "execute_result"
    }
   ],
   "source": [
    "df.head()"
   ]
  },
  {
   "cell_type": "code",
   "execution_count": 39,
   "metadata": {},
   "outputs": [],
   "source": [
    "rusty = df[df['Prediction'] > 0.5]\n",
    "non_rusty = df[df['Prediction'] <= 0.5]"
   ]
  },
  {
   "cell_type": "code",
   "execution_count": 41,
   "metadata": {},
   "outputs": [
    {
     "data": {
      "text/plain": [
       "17"
      ]
     },
     "execution_count": 41,
     "metadata": {},
     "output_type": "execute_result"
    }
   ],
   "source": [
    "len(rusty['Prediction'])"
   ]
  },
  {
   "cell_type": "code",
   "execution_count": 44,
   "metadata": {},
   "outputs": [
    {
     "data": {
      "text/plain": [
       "DSCN6470 (Large).JPG        0.555495\n",
       "DSCN6448 (Large).JPG        0.545749\n",
       "DSCN6402 (Large).JPG        0.507073\n",
       "DSCN6481 (Large).JPG        0.504599\n",
       "DSCN6356 (Large).JPG        0.527333\n",
       "DSCN6517 (Large).JPG        0.560456\n",
       "pexels-photo-114108.jpeg    0.706852\n",
       "DSCN6465 (Large).JPG        0.508932\n",
       "DSCN6505 (Large).JPG        0.571130\n",
       "DSCN6584 (Large).JPG        0.549203\n",
       "DSCN6577 (Large).JPG        0.594816\n",
       "DSCN6492 (Large).JPG        0.667496\n",
       "images.jpg                  0.680249\n",
       "DSCN6587 (Large).JPG        0.502152\n",
       "DSCN6516 (Large).JPG        0.539113\n",
       "DSCN6369 (Large).JPG        0.527210\n",
       "DSCN6455 (Large).JPG        0.533608\n",
       "Name: Prediction, dtype: float64"
      ]
     },
     "execution_count": 44,
     "metadata": {},
     "output_type": "execute_result"
    }
   ],
   "source": [
    "rusty['Prediction']"
   ]
  },
  {
   "cell_type": "code",
   "execution_count": 43,
   "metadata": {},
   "outputs": [
    {
     "data": {
      "text/plain": [
       "241"
      ]
     },
     "execution_count": 43,
     "metadata": {},
     "output_type": "execute_result"
    }
   ],
   "source": [
    "len(non_rusty['Prediction'])"
   ]
  },
  {
   "cell_type": "code",
   "execution_count": null,
   "metadata": {},
   "outputs": [],
   "source": []
  },
  {
   "cell_type": "code",
   "execution_count": 9,
   "metadata": {},
   "outputs": [],
   "source": [
    "rusty_1 = image_predict('data/test/images.jpg')\n",
    "rusty_2 = image_predict('data/test/pexels-photo-114108.jpeg')\n",
    "non_rusty_1 = image_predict('data/test/no_rust.jpg')\n",
    "non_rusty_2 = image_predict('data/test/no_rust_2.jpg')\n",
    "non_rusty_3 = image_predict('data/test/1_0043 - 3 (Small).JPG')"
   ]
  },
  {
   "cell_type": "code",
   "execution_count": 11,
   "metadata": {},
   "outputs": [
    {
     "name": "stdout",
     "output_type": "stream",
     "text": [
      "Rusty 1 score: 0.68024904\n",
      "Rusty 2 score: 0.7068523\n",
      "Non_rusty 1 score: 0.16616271\n",
      "Non_rusty 2 score: 0.03634391\n",
      "Non_rusty 3 score: 0.10323502\n"
     ]
    }
   ],
   "source": [
    "print('Rusty 1 score:', rusty_1.sum())\n",
    "print('Rusty 2 score:', rusty_2.sum())\n",
    "print('Non_rusty 1 score:', non_rusty_1.sum())\n",
    "print('Non_rusty 2 score:', non_rusty_2.sum())\n",
    "print('Non_rusty 3 score:', non_rusty_3.sum())"
   ]
  },
  {
   "cell_type": "markdown",
   "metadata": {},
   "source": [
    "### Now test the newly trained Mobilenet_V2"
   ]
  },
  {
   "cell_type": "code",
   "execution_count": 13,
   "metadata": {},
   "outputs": [],
   "source": [
    "base_model = applications.mobilenetv2.MobileNetV2(include_top=False, input_shape = (img_width, img_height, 3), pooling='avg')\n",
    "\n",
    "output = Dense(1, activation='sigmoid')(base_model.output)\n",
    "model_final = Model(base_model.input, output)"
   ]
  },
  {
   "cell_type": "code",
   "execution_count": 14,
   "metadata": {},
   "outputs": [],
   "source": [
    "# Load the pretrained model\n",
    "model_final.load_weights(\"Mobile_V2.h5\")"
   ]
  },
  {
   "cell_type": "code",
   "execution_count": 15,
   "metadata": {},
   "outputs": [],
   "source": [
    "rusty_1 = image_predict('data/test/images.jpg')\n",
    "rusty_2 = image_predict('data/test/pexels-photo-114108.jpeg')\n",
    "non_rusty_1 = image_predict('data/test/no_rust.jpg')\n",
    "non_rusty_2 = image_predict('data/test/no_rust_2.jpg')\n",
    "non_rusty_3 = image_predict('data/test/1_0043 - 3 (Small).JPG')"
   ]
  },
  {
   "cell_type": "code",
   "execution_count": 16,
   "metadata": {},
   "outputs": [
    {
     "name": "stdout",
     "output_type": "stream",
     "text": [
      "Rusty 1 score: 0.7832331\n",
      "Rusty 2 score: 0.4784979\n",
      "Non_rusty 1 score: 0.37875006\n",
      "Non_rusty 2 score: 0.1442362\n",
      "Non_rusty 3 score: 0.059132084\n"
     ]
    }
   ],
   "source": [
    "print('Rusty 1 score:', rusty_1.sum())\n",
    "print('Rusty 2 score:', rusty_2.sum())\n",
    "print('Non_rusty 1 score:', non_rusty_1.sum())\n",
    "print('Non_rusty 2 score:', non_rusty_2.sum())\n",
    "print('Non_rusty 3 score:', non_rusty_3.sum())"
   ]
  },
  {
   "cell_type": "markdown",
   "metadata": {},
   "source": [
    "### Test out newly trained Xception net"
   ]
  },
  {
   "cell_type": "markdown",
   "metadata": {},
   "source": [
    "Firstly load up the Xception net in keras without the top layer, and add a final Dense output layer"
   ]
  },
  {
   "cell_type": "code",
   "execution_count": 47,
   "metadata": {},
   "outputs": [],
   "source": [
    "base_model = applications.Xception(include_top=False, input_shape = (img_width, img_height, 3), pooling='avg')\n",
    "\n",
    "output = Dense(1, activation='sigmoid')(base_model.output)\n",
    "model_final = Model(base_model.input, output)"
   ]
  },
  {
   "cell_type": "markdown",
   "metadata": {},
   "source": [
    "Once the model is loaded, load in the pretrained weights from the neural net training"
   ]
  },
  {
   "cell_type": "code",
   "execution_count": 48,
   "metadata": {},
   "outputs": [],
   "source": [
    "# Load the pretrained model\n",
    "model_final.load_weights(\"Xception_1.h5\")"
   ]
  },
  {
   "cell_type": "code",
   "execution_count": 49,
   "metadata": {},
   "outputs": [],
   "source": [
    "full_predictions = {}\n",
    "for f in test_images:\n",
    "    pred = image_predict(join(test_data_dir, f))\n",
    "    full_predictions[f] = pred.sum()"
   ]
  },
  {
   "cell_type": "code",
   "execution_count": 50,
   "metadata": {},
   "outputs": [],
   "source": [
    "df = pd.DataFrame.from_dict(full_predictions, orient='index')"
   ]
  },
  {
   "cell_type": "code",
   "execution_count": 51,
   "metadata": {},
   "outputs": [
    {
     "data": {
      "text/html": [
       "<div>\n",
       "<style scoped>\n",
       "    .dataframe tbody tr th:only-of-type {\n",
       "        vertical-align: middle;\n",
       "    }\n",
       "\n",
       "    .dataframe tbody tr th {\n",
       "        vertical-align: top;\n",
       "    }\n",
       "\n",
       "    .dataframe thead th {\n",
       "        text-align: right;\n",
       "    }\n",
       "</style>\n",
       "<table border=\"1\" class=\"dataframe\">\n",
       "  <thead>\n",
       "    <tr style=\"text-align: right;\">\n",
       "      <th></th>\n",
       "      <th>0</th>\n",
       "    </tr>\n",
       "  </thead>\n",
       "  <tbody>\n",
       "    <tr>\n",
       "      <th>DSCN6470 (Large).JPG</th>\n",
       "      <td>0.990169</td>\n",
       "    </tr>\n",
       "    <tr>\n",
       "      <th>DSCN6486 (Large).JPG</th>\n",
       "      <td>0.165428</td>\n",
       "    </tr>\n",
       "    <tr>\n",
       "      <th>DSCN6409 (Large).JPG</th>\n",
       "      <td>0.256433</td>\n",
       "    </tr>\n",
       "    <tr>\n",
       "      <th>DSCN6358 (Large).JPG</th>\n",
       "      <td>0.060973</td>\n",
       "    </tr>\n",
       "    <tr>\n",
       "      <th>DSCN6581 (Large).JPG</th>\n",
       "      <td>0.000090</td>\n",
       "    </tr>\n",
       "  </tbody>\n",
       "</table>\n",
       "</div>"
      ],
      "text/plain": [
       "                             0\n",
       "DSCN6470 (Large).JPG  0.990169\n",
       "DSCN6486 (Large).JPG  0.165428\n",
       "DSCN6409 (Large).JPG  0.256433\n",
       "DSCN6358 (Large).JPG  0.060973\n",
       "DSCN6581 (Large).JPG  0.000090"
      ]
     },
     "execution_count": 51,
     "metadata": {},
     "output_type": "execute_result"
    }
   ],
   "source": [
    "df.head()"
   ]
  },
  {
   "cell_type": "code",
   "execution_count": 53,
   "metadata": {},
   "outputs": [],
   "source": [
    "df.columns = ['Prediction']"
   ]
  },
  {
   "cell_type": "code",
   "execution_count": 54,
   "metadata": {},
   "outputs": [],
   "source": [
    "rusty = df[df['Prediction'] > 0.5]\n",
    "non_rusty = df[df['Prediction'] <= 0.5]"
   ]
  },
  {
   "cell_type": "code",
   "execution_count": 55,
   "metadata": {},
   "outputs": [
    {
     "data": {
      "text/plain": [
       "12"
      ]
     },
     "execution_count": 55,
     "metadata": {},
     "output_type": "execute_result"
    }
   ],
   "source": [
    "len(rusty['Prediction'])"
   ]
  },
  {
   "cell_type": "code",
   "execution_count": 56,
   "metadata": {},
   "outputs": [
    {
     "data": {
      "text/plain": [
       "DSCN6470 (Large).JPG        0.990169\n",
       "DSCN6402 (Large).JPG        0.993661\n",
       "DSCN6374 (Large).JPG        0.556375\n",
       "DSCN6380 (Large).JPG        0.665090\n",
       "DSCN6379 (Large).JPG        0.931861\n",
       "DSCN6382 (Large).JPG        0.850072\n",
       "pexels-photo-114108.jpeg    0.996258\n",
       "DSCN6420 (Large).JPG        0.980705\n",
       "DSCN6479 (Large).JPG        0.668909\n",
       "DSCN6492 (Large).JPG        0.600438\n",
       "images.jpg                  0.999717\n",
       "DSCN6557 (Large).JPG        0.646895\n",
       "Name: Prediction, dtype: float64"
      ]
     },
     "execution_count": 56,
     "metadata": {},
     "output_type": "execute_result"
    }
   ],
   "source": [
    "rusty['Prediction']"
   ]
  },
  {
   "cell_type": "markdown",
   "metadata": {},
   "source": [
    "Test the neural net by predicting on the test sample set of images.\n",
    "\n",
    "The test set has two images showing rust and 3 images showing no rust. The predictions for the images showing rust should be close to 1 and the images showing no rust should be close to 0.\n",
    "\n",
    "This set of images has been downloaded from google images and is completely different from the training and validation data sets."
   ]
  },
  {
   "cell_type": "code",
   "execution_count": 6,
   "metadata": {},
   "outputs": [],
   "source": [
    "rusty_1 = image_predict('data/test/images.jpg')\n",
    "rusty_2 = image_predict('data/test/pexels-photo-114108.jpeg')\n",
    "non_rusty_1 = image_predict('data/test/no_rust.jpg')\n",
    "non_rusty_2 = image_predict('data/test/no_rust_2.jpg')\n",
    "non_rusty_3 = image_predict('data/test/1_0043 - 3 (Small).JPG')"
   ]
  },
  {
   "cell_type": "code",
   "execution_count": 7,
   "metadata": {},
   "outputs": [
    {
     "name": "stdout",
     "output_type": "stream",
     "text": [
      "Rusty 1 score: 0.9997166\n",
      "Rusty 2 score: 0.9962578\n",
      "Non_rusty 1 score: 0.14408405\n",
      "Non_rusty 2 score: 0.003509822\n",
      "Non_rusty 3 score: 5.661761e-06\n"
     ]
    }
   ],
   "source": [
    "print('Rusty 1 score:', rusty_1.sum())\n",
    "print('Rusty 2 score:', rusty_2.sum())\n",
    "print('Non_rusty 1 score:', non_rusty_1.sum())\n",
    "print('Non_rusty 2 score:', non_rusty_2.sum())\n",
    "print('Non_rusty 3 score:', non_rusty_3.sum())"
   ]
  },
  {
   "cell_type": "markdown",
   "metadata": {},
   "source": [
    "As can be seen from the scores predicted above the neural net has correctly classified the images and not only that has predicted scores very close to 1 for the rusty images, and very close to 0 for the images without rust."
   ]
  },
  {
   "cell_type": "markdown",
   "metadata": {},
   "source": [
    "### Now test the updated trained Mobilenet_V2"
   ]
  },
  {
   "cell_type": "code",
   "execution_count": 57,
   "metadata": {},
   "outputs": [],
   "source": [
    "base_model = applications.mobilenetv2.MobileNetV2(include_top=False, input_shape = (img_width, img_height, 3), pooling='avg')\n",
    "\n",
    "output = Dense(1, activation='sigmoid')(base_model.output)\n",
    "model_final = Model(base_model.input, output)"
   ]
  },
  {
   "cell_type": "code",
   "execution_count": 58,
   "metadata": {},
   "outputs": [],
   "source": [
    "# Load the pretrained model\n",
    "model_final.load_weights(\"Mobile_test.h5\")"
   ]
  },
  {
   "cell_type": "code",
   "execution_count": 59,
   "metadata": {},
   "outputs": [],
   "source": [
    "full_predictions = {}\n",
    "for f in test_images:\n",
    "    pred = image_predict(join(test_data_dir, f))\n",
    "    full_predictions[f] = pred.sum()"
   ]
  },
  {
   "cell_type": "code",
   "execution_count": 60,
   "metadata": {},
   "outputs": [],
   "source": [
    "df = pd.DataFrame.from_dict(full_predictions, orient='index')"
   ]
  },
  {
   "cell_type": "code",
   "execution_count": 61,
   "metadata": {},
   "outputs": [],
   "source": [
    "df.columns = ['Prediction']"
   ]
  },
  {
   "cell_type": "code",
   "execution_count": 62,
   "metadata": {},
   "outputs": [],
   "source": [
    "rusty = df[df['Prediction'] > 0.5]\n",
    "non_rusty = df[df['Prediction'] <= 0.5]"
   ]
  },
  {
   "cell_type": "code",
   "execution_count": 63,
   "metadata": {},
   "outputs": [
    {
     "data": {
      "text/plain": [
       "14"
      ]
     },
     "execution_count": 63,
     "metadata": {},
     "output_type": "execute_result"
    }
   ],
   "source": [
    "len(rusty['Prediction'])"
   ]
  },
  {
   "cell_type": "code",
   "execution_count": 64,
   "metadata": {},
   "outputs": [
    {
     "data": {
      "text/plain": [
       "DSCN6470 (Large).JPG        0.736087\n",
       "DSCN6514 (Large).JPG        0.601293\n",
       "DSCN6406 (Large).JPG        0.781048\n",
       "pexels-photo-114108.jpeg    0.971214\n",
       "DSCN6578 (Large).JPG        0.563262\n",
       "DSCN6420 (Large).JPG        0.625713\n",
       "DSCN6541 (Large).JPG        0.570009\n",
       "DSCN6492 (Large).JPG        0.846626\n",
       "DSCN6508 (Large).JPG        0.729443\n",
       "images.jpg                  0.807393\n",
       "DSCN6535 (Large).JPG        0.503547\n",
       "DSCN6589 (Large).JPG        0.798120\n",
       "DSCN6450 (Large).JPG        0.679698\n",
       "DSCN6400 (Large).JPG        0.563906\n",
       "Name: Prediction, dtype: float64"
      ]
     },
     "execution_count": 64,
     "metadata": {},
     "output_type": "execute_result"
    }
   ],
   "source": [
    "rusty['Prediction']"
   ]
  },
  {
   "cell_type": "code",
   "execution_count": 6,
   "metadata": {},
   "outputs": [],
   "source": [
    "rusty_1 = image_predict('data/test/images.jpg')\n",
    "rusty_2 = image_predict('data/test/pexels-photo-114108.jpeg')\n",
    "non_rusty_1 = image_predict('data/test/no_rust.jpg')\n",
    "non_rusty_2 = image_predict('data/test/no_rust_2.jpg')\n",
    "non_rusty_3 = image_predict('data/test/1_0043 - 3 (Small).JPG')"
   ]
  },
  {
   "cell_type": "code",
   "execution_count": 7,
   "metadata": {},
   "outputs": [
    {
     "name": "stdout",
     "output_type": "stream",
     "text": [
      "Rusty 1 score: 0.80739266\n",
      "Rusty 2 score: 0.9712144\n",
      "Non_rusty 1 score: 0.36098155\n",
      "Non_rusty 2 score: 0.21638988\n",
      "Non_rusty 3 score: 0.010145643\n"
     ]
    }
   ],
   "source": [
    "print('Rusty 1 score:', rusty_1.sum())\n",
    "print('Rusty 2 score:', rusty_2.sum())\n",
    "print('Non_rusty 1 score:', non_rusty_1.sum())\n",
    "print('Non_rusty 2 score:', non_rusty_2.sum())\n",
    "print('Non_rusty 3 score:', non_rusty_3.sum())"
   ]
  },
  {
   "cell_type": "markdown",
   "metadata": {},
   "source": [
    "All test images have been classified correctly which is an improvement from the first iteration of the mobilenet."
   ]
  },
  {
   "cell_type": "code",
   "execution_count": 6,
   "metadata": {},
   "outputs": [
    {
     "name": "stdout",
     "output_type": "stream",
     "text": [
      "__________________________________________________________________________________________________\n",
      "Layer (type)                    Output Shape         Param #     Connected to                     \n",
      "==================================================================================================\n",
      "input_1 (InputLayer)            (None, 224, 224, 3)  0                                            \n",
      "__________________________________________________________________________________________________\n",
      "Conv1 (Conv2D)                  (None, 112, 112, 32) 864         input_1[0][0]                    \n",
      "__________________________________________________________________________________________________\n",
      "bn_Conv1 (BatchNormalization)   (None, 112, 112, 32) 128         Conv1[0][0]                      \n",
      "__________________________________________________________________________________________________\n",
      "Conv1_relu (Activation)         (None, 112, 112, 32) 0           bn_Conv1[0][0]                   \n",
      "__________________________________________________________________________________________________\n",
      "expanded_conv_depthwise (Depthw (None, 112, 112, 32) 288         Conv1_relu[0][0]                 \n",
      "__________________________________________________________________________________________________\n",
      "expanded_conv_depthwise_BN (Bat (None, 112, 112, 32) 128         expanded_conv_depthwise[0][0]    \n",
      "__________________________________________________________________________________________________\n",
      "expanded_conv_depthwise_relu (A (None, 112, 112, 32) 0           expanded_conv_depthwise_BN[0][0] \n",
      "__________________________________________________________________________________________________\n",
      "expanded_conv_project (Conv2D)  (None, 112, 112, 16) 512         expanded_conv_depthwise_relu[0][0\n",
      "__________________________________________________________________________________________________\n",
      "expanded_conv_project_BN (Batch (None, 112, 112, 16) 64          expanded_conv_project[0][0]      \n",
      "__________________________________________________________________________________________________\n",
      "block_1_expand (Conv2D)         (None, 112, 112, 96) 1536        expanded_conv_project_BN[0][0]   \n",
      "__________________________________________________________________________________________________\n",
      "block_1_expand_BN (BatchNormali (None, 112, 112, 96) 384         block_1_expand[0][0]             \n",
      "__________________________________________________________________________________________________\n",
      "block_1_expand_relu (Activation (None, 112, 112, 96) 0           block_1_expand_BN[0][0]          \n",
      "__________________________________________________________________________________________________\n",
      "block_1_depthwise (DepthwiseCon (None, 56, 56, 96)   864         block_1_expand_relu[0][0]        \n",
      "__________________________________________________________________________________________________\n",
      "block_1_depthwise_BN (BatchNorm (None, 56, 56, 96)   384         block_1_depthwise[0][0]          \n",
      "__________________________________________________________________________________________________\n",
      "block_1_depthwise_relu (Activat (None, 56, 56, 96)   0           block_1_depthwise_BN[0][0]       \n",
      "__________________________________________________________________________________________________\n",
      "block_1_project (Conv2D)        (None, 56, 56, 24)   2304        block_1_depthwise_relu[0][0]     \n",
      "__________________________________________________________________________________________________\n",
      "block_1_project_BN (BatchNormal (None, 56, 56, 24)   96          block_1_project[0][0]            \n",
      "__________________________________________________________________________________________________\n",
      "block_2_expand (Conv2D)         (None, 56, 56, 144)  3456        block_1_project_BN[0][0]         \n",
      "__________________________________________________________________________________________________\n",
      "block_2_expand_BN (BatchNormali (None, 56, 56, 144)  576         block_2_expand[0][0]             \n",
      "__________________________________________________________________________________________________\n",
      "block_2_expand_relu (Activation (None, 56, 56, 144)  0           block_2_expand_BN[0][0]          \n",
      "__________________________________________________________________________________________________\n",
      "block_2_depthwise (DepthwiseCon (None, 56, 56, 144)  1296        block_2_expand_relu[0][0]        \n",
      "__________________________________________________________________________________________________\n",
      "block_2_depthwise_BN (BatchNorm (None, 56, 56, 144)  576         block_2_depthwise[0][0]          \n",
      "__________________________________________________________________________________________________\n",
      "block_2_depthwise_relu (Activat (None, 56, 56, 144)  0           block_2_depthwise_BN[0][0]       \n",
      "__________________________________________________________________________________________________\n",
      "block_2_project (Conv2D)        (None, 56, 56, 24)   3456        block_2_depthwise_relu[0][0]     \n",
      "__________________________________________________________________________________________________\n",
      "block_2_project_BN (BatchNormal (None, 56, 56, 24)   96          block_2_project[0][0]            \n",
      "__________________________________________________________________________________________________\n",
      "block_2_add (Add)               (None, 56, 56, 24)   0           block_1_project_BN[0][0]         \n",
      "                                                                 block_2_project_BN[0][0]         \n",
      "__________________________________________________________________________________________________\n",
      "block_3_expand (Conv2D)         (None, 56, 56, 144)  3456        block_2_add[0][0]                \n",
      "__________________________________________________________________________________________________\n",
      "block_3_expand_BN (BatchNormali (None, 56, 56, 144)  576         block_3_expand[0][0]             \n",
      "__________________________________________________________________________________________________\n",
      "block_3_expand_relu (Activation (None, 56, 56, 144)  0           block_3_expand_BN[0][0]          \n",
      "__________________________________________________________________________________________________\n",
      "block_3_depthwise (DepthwiseCon (None, 28, 28, 144)  1296        block_3_expand_relu[0][0]        \n",
      "__________________________________________________________________________________________________\n",
      "block_3_depthwise_BN (BatchNorm (None, 28, 28, 144)  576         block_3_depthwise[0][0]          \n",
      "__________________________________________________________________________________________________\n",
      "block_3_depthwise_relu (Activat (None, 28, 28, 144)  0           block_3_depthwise_BN[0][0]       \n",
      "__________________________________________________________________________________________________\n",
      "block_3_project (Conv2D)        (None, 28, 28, 32)   4608        block_3_depthwise_relu[0][0]     \n",
      "__________________________________________________________________________________________________\n",
      "block_3_project_BN (BatchNormal (None, 28, 28, 32)   128         block_3_project[0][0]            \n",
      "__________________________________________________________________________________________________\n",
      "block_4_expand (Conv2D)         (None, 28, 28, 192)  6144        block_3_project_BN[0][0]         \n",
      "__________________________________________________________________________________________________\n",
      "block_4_expand_BN (BatchNormali (None, 28, 28, 192)  768         block_4_expand[0][0]             \n",
      "__________________________________________________________________________________________________\n",
      "block_4_expand_relu (Activation (None, 28, 28, 192)  0           block_4_expand_BN[0][0]          \n",
      "__________________________________________________________________________________________________\n",
      "block_4_depthwise (DepthwiseCon (None, 28, 28, 192)  1728        block_4_expand_relu[0][0]        \n",
      "__________________________________________________________________________________________________\n",
      "block_4_depthwise_BN (BatchNorm (None, 28, 28, 192)  768         block_4_depthwise[0][0]          \n",
      "__________________________________________________________________________________________________\n",
      "block_4_depthwise_relu (Activat (None, 28, 28, 192)  0           block_4_depthwise_BN[0][0]       \n",
      "__________________________________________________________________________________________________\n",
      "block_4_project (Conv2D)        (None, 28, 28, 32)   6144        block_4_depthwise_relu[0][0]     \n",
      "__________________________________________________________________________________________________\n",
      "block_4_project_BN (BatchNormal (None, 28, 28, 32)   128         block_4_project[0][0]            \n",
      "__________________________________________________________________________________________________\n",
      "block_4_add (Add)               (None, 28, 28, 32)   0           block_3_project_BN[0][0]         \n",
      "                                                                 block_4_project_BN[0][0]         \n",
      "__________________________________________________________________________________________________\n",
      "block_5_expand (Conv2D)         (None, 28, 28, 192)  6144        block_4_add[0][0]                \n",
      "__________________________________________________________________________________________________\n",
      "block_5_expand_BN (BatchNormali (None, 28, 28, 192)  768         block_5_expand[0][0]             \n",
      "__________________________________________________________________________________________________\n",
      "block_5_expand_relu (Activation (None, 28, 28, 192)  0           block_5_expand_BN[0][0]          \n",
      "__________________________________________________________________________________________________\n",
      "block_5_depthwise (DepthwiseCon (None, 28, 28, 192)  1728        block_5_expand_relu[0][0]        \n",
      "__________________________________________________________________________________________________\n",
      "block_5_depthwise_BN (BatchNorm (None, 28, 28, 192)  768         block_5_depthwise[0][0]          \n",
      "__________________________________________________________________________________________________\n",
      "block_5_depthwise_relu (Activat (None, 28, 28, 192)  0           block_5_depthwise_BN[0][0]       \n",
      "__________________________________________________________________________________________________\n",
      "block_5_project (Conv2D)        (None, 28, 28, 32)   6144        block_5_depthwise_relu[0][0]     \n",
      "__________________________________________________________________________________________________\n",
      "block_5_project_BN (BatchNormal (None, 28, 28, 32)   128         block_5_project[0][0]            \n",
      "__________________________________________________________________________________________________\n",
      "block_5_add (Add)               (None, 28, 28, 32)   0           block_4_add[0][0]                \n",
      "                                                                 block_5_project_BN[0][0]         \n",
      "__________________________________________________________________________________________________\n",
      "block_6_expand (Conv2D)         (None, 28, 28, 192)  6144        block_5_add[0][0]                \n",
      "__________________________________________________________________________________________________\n",
      "block_6_expand_BN (BatchNormali (None, 28, 28, 192)  768         block_6_expand[0][0]             \n",
      "__________________________________________________________________________________________________\n",
      "block_6_expand_relu (Activation (None, 28, 28, 192)  0           block_6_expand_BN[0][0]          \n",
      "__________________________________________________________________________________________________\n",
      "block_6_depthwise (DepthwiseCon (None, 14, 14, 192)  1728        block_6_expand_relu[0][0]        \n",
      "__________________________________________________________________________________________________\n",
      "block_6_depthwise_BN (BatchNorm (None, 14, 14, 192)  768         block_6_depthwise[0][0]          \n",
      "__________________________________________________________________________________________________\n",
      "block_6_depthwise_relu (Activat (None, 14, 14, 192)  0           block_6_depthwise_BN[0][0]       \n",
      "__________________________________________________________________________________________________\n",
      "block_6_project (Conv2D)        (None, 14, 14, 64)   12288       block_6_depthwise_relu[0][0]     \n",
      "__________________________________________________________________________________________________\n",
      "block_6_project_BN (BatchNormal (None, 14, 14, 64)   256         block_6_project[0][0]            \n",
      "__________________________________________________________________________________________________\n",
      "block_7_expand (Conv2D)         (None, 14, 14, 384)  24576       block_6_project_BN[0][0]         \n",
      "__________________________________________________________________________________________________\n",
      "block_7_expand_BN (BatchNormali (None, 14, 14, 384)  1536        block_7_expand[0][0]             \n",
      "__________________________________________________________________________________________________\n",
      "block_7_expand_relu (Activation (None, 14, 14, 384)  0           block_7_expand_BN[0][0]          \n",
      "__________________________________________________________________________________________________\n",
      "block_7_depthwise (DepthwiseCon (None, 14, 14, 384)  3456        block_7_expand_relu[0][0]        \n",
      "__________________________________________________________________________________________________\n",
      "block_7_depthwise_BN (BatchNorm (None, 14, 14, 384)  1536        block_7_depthwise[0][0]          \n",
      "__________________________________________________________________________________________________\n",
      "block_7_depthwise_relu (Activat (None, 14, 14, 384)  0           block_7_depthwise_BN[0][0]       \n",
      "__________________________________________________________________________________________________\n",
      "block_7_project (Conv2D)        (None, 14, 14, 64)   24576       block_7_depthwise_relu[0][0]     \n",
      "__________________________________________________________________________________________________\n",
      "block_7_project_BN (BatchNormal (None, 14, 14, 64)   256         block_7_project[0][0]            \n",
      "__________________________________________________________________________________________________\n",
      "block_7_add (Add)               (None, 14, 14, 64)   0           block_6_project_BN[0][0]         \n",
      "                                                                 block_7_project_BN[0][0]         \n",
      "__________________________________________________________________________________________________\n",
      "block_8_expand (Conv2D)         (None, 14, 14, 384)  24576       block_7_add[0][0]                \n",
      "__________________________________________________________________________________________________\n",
      "block_8_expand_BN (BatchNormali (None, 14, 14, 384)  1536        block_8_expand[0][0]             \n",
      "__________________________________________________________________________________________________\n",
      "block_8_expand_relu (Activation (None, 14, 14, 384)  0           block_8_expand_BN[0][0]          \n",
      "__________________________________________________________________________________________________\n",
      "block_8_depthwise (DepthwiseCon (None, 14, 14, 384)  3456        block_8_expand_relu[0][0]        \n",
      "__________________________________________________________________________________________________\n",
      "block_8_depthwise_BN (BatchNorm (None, 14, 14, 384)  1536        block_8_depthwise[0][0]          \n",
      "__________________________________________________________________________________________________\n",
      "block_8_depthwise_relu (Activat (None, 14, 14, 384)  0           block_8_depthwise_BN[0][0]       \n",
      "__________________________________________________________________________________________________\n",
      "block_8_project (Conv2D)        (None, 14, 14, 64)   24576       block_8_depthwise_relu[0][0]     \n",
      "__________________________________________________________________________________________________\n",
      "block_8_project_BN (BatchNormal (None, 14, 14, 64)   256         block_8_project[0][0]            \n",
      "__________________________________________________________________________________________________\n",
      "block_8_add (Add)               (None, 14, 14, 64)   0           block_7_add[0][0]                \n",
      "                                                                 block_8_project_BN[0][0]         \n",
      "__________________________________________________________________________________________________\n",
      "block_9_expand (Conv2D)         (None, 14, 14, 384)  24576       block_8_add[0][0]                \n",
      "__________________________________________________________________________________________________\n",
      "block_9_expand_BN (BatchNormali (None, 14, 14, 384)  1536        block_9_expand[0][0]             \n",
      "__________________________________________________________________________________________________\n",
      "block_9_expand_relu (Activation (None, 14, 14, 384)  0           block_9_expand_BN[0][0]          \n",
      "__________________________________________________________________________________________________\n",
      "block_9_depthwise (DepthwiseCon (None, 14, 14, 384)  3456        block_9_expand_relu[0][0]        \n",
      "__________________________________________________________________________________________________\n",
      "block_9_depthwise_BN (BatchNorm (None, 14, 14, 384)  1536        block_9_depthwise[0][0]          \n",
      "__________________________________________________________________________________________________\n",
      "block_9_depthwise_relu (Activat (None, 14, 14, 384)  0           block_9_depthwise_BN[0][0]       \n",
      "__________________________________________________________________________________________________\n",
      "block_9_project (Conv2D)        (None, 14, 14, 64)   24576       block_9_depthwise_relu[0][0]     \n",
      "__________________________________________________________________________________________________\n",
      "block_9_project_BN (BatchNormal (None, 14, 14, 64)   256         block_9_project[0][0]            \n",
      "__________________________________________________________________________________________________\n",
      "block_9_add (Add)               (None, 14, 14, 64)   0           block_8_add[0][0]                \n",
      "                                                                 block_9_project_BN[0][0]         \n",
      "__________________________________________________________________________________________________\n",
      "block_10_expand (Conv2D)        (None, 14, 14, 384)  24576       block_9_add[0][0]                \n",
      "__________________________________________________________________________________________________\n",
      "block_10_expand_BN (BatchNormal (None, 14, 14, 384)  1536        block_10_expand[0][0]            \n",
      "__________________________________________________________________________________________________\n",
      "block_10_expand_relu (Activatio (None, 14, 14, 384)  0           block_10_expand_BN[0][0]         \n",
      "__________________________________________________________________________________________________\n",
      "block_10_depthwise (DepthwiseCo (None, 14, 14, 384)  3456        block_10_expand_relu[0][0]       \n",
      "__________________________________________________________________________________________________\n",
      "block_10_depthwise_BN (BatchNor (None, 14, 14, 384)  1536        block_10_depthwise[0][0]         \n",
      "__________________________________________________________________________________________________\n",
      "block_10_depthwise_relu (Activa (None, 14, 14, 384)  0           block_10_depthwise_BN[0][0]      \n",
      "__________________________________________________________________________________________________\n",
      "block_10_project (Conv2D)       (None, 14, 14, 96)   36864       block_10_depthwise_relu[0][0]    \n",
      "__________________________________________________________________________________________________\n",
      "block_10_project_BN (BatchNorma (None, 14, 14, 96)   384         block_10_project[0][0]           \n",
      "__________________________________________________________________________________________________\n",
      "block_11_expand (Conv2D)        (None, 14, 14, 576)  55296       block_10_project_BN[0][0]        \n",
      "__________________________________________________________________________________________________\n",
      "block_11_expand_BN (BatchNormal (None, 14, 14, 576)  2304        block_11_expand[0][0]            \n",
      "__________________________________________________________________________________________________\n",
      "block_11_expand_relu (Activatio (None, 14, 14, 576)  0           block_11_expand_BN[0][0]         \n",
      "__________________________________________________________________________________________________\n",
      "block_11_depthwise (DepthwiseCo (None, 14, 14, 576)  5184        block_11_expand_relu[0][0]       \n",
      "__________________________________________________________________________________________________\n",
      "block_11_depthwise_BN (BatchNor (None, 14, 14, 576)  2304        block_11_depthwise[0][0]         \n",
      "__________________________________________________________________________________________________\n",
      "block_11_depthwise_relu (Activa (None, 14, 14, 576)  0           block_11_depthwise_BN[0][0]      \n",
      "__________________________________________________________________________________________________\n",
      "block_11_project (Conv2D)       (None, 14, 14, 96)   55296       block_11_depthwise_relu[0][0]    \n",
      "__________________________________________________________________________________________________\n",
      "block_11_project_BN (BatchNorma (None, 14, 14, 96)   384         block_11_project[0][0]           \n",
      "__________________________________________________________________________________________________\n",
      "block_11_add (Add)              (None, 14, 14, 96)   0           block_10_project_BN[0][0]        \n",
      "                                                                 block_11_project_BN[0][0]        \n",
      "__________________________________________________________________________________________________\n",
      "block_12_expand (Conv2D)        (None, 14, 14, 576)  55296       block_11_add[0][0]               \n",
      "__________________________________________________________________________________________________\n",
      "block_12_expand_BN (BatchNormal (None, 14, 14, 576)  2304        block_12_expand[0][0]            \n",
      "__________________________________________________________________________________________________\n",
      "block_12_expand_relu (Activatio (None, 14, 14, 576)  0           block_12_expand_BN[0][0]         \n",
      "__________________________________________________________________________________________________\n",
      "block_12_depthwise (DepthwiseCo (None, 14, 14, 576)  5184        block_12_expand_relu[0][0]       \n",
      "__________________________________________________________________________________________________\n",
      "block_12_depthwise_BN (BatchNor (None, 14, 14, 576)  2304        block_12_depthwise[0][0]         \n",
      "__________________________________________________________________________________________________\n",
      "block_12_depthwise_relu (Activa (None, 14, 14, 576)  0           block_12_depthwise_BN[0][0]      \n",
      "__________________________________________________________________________________________________\n",
      "block_12_project (Conv2D)       (None, 14, 14, 96)   55296       block_12_depthwise_relu[0][0]    \n",
      "__________________________________________________________________________________________________\n",
      "block_12_project_BN (BatchNorma (None, 14, 14, 96)   384         block_12_project[0][0]           \n",
      "__________________________________________________________________________________________________\n",
      "block_12_add (Add)              (None, 14, 14, 96)   0           block_11_add[0][0]               \n",
      "                                                                 block_12_project_BN[0][0]        \n",
      "__________________________________________________________________________________________________\n",
      "block_13_expand (Conv2D)        (None, 14, 14, 576)  55296       block_12_add[0][0]               \n",
      "__________________________________________________________________________________________________\n",
      "block_13_expand_BN (BatchNormal (None, 14, 14, 576)  2304        block_13_expand[0][0]            \n",
      "__________________________________________________________________________________________________\n",
      "block_13_expand_relu (Activatio (None, 14, 14, 576)  0           block_13_expand_BN[0][0]         \n",
      "__________________________________________________________________________________________________\n",
      "block_13_depthwise (DepthwiseCo (None, 7, 7, 576)    5184        block_13_expand_relu[0][0]       \n",
      "__________________________________________________________________________________________________\n",
      "block_13_depthwise_BN (BatchNor (None, 7, 7, 576)    2304        block_13_depthwise[0][0]         \n",
      "__________________________________________________________________________________________________\n",
      "block_13_depthwise_relu (Activa (None, 7, 7, 576)    0           block_13_depthwise_BN[0][0]      \n",
      "__________________________________________________________________________________________________\n",
      "block_13_project (Conv2D)       (None, 7, 7, 160)    92160       block_13_depthwise_relu[0][0]    \n",
      "__________________________________________________________________________________________________\n",
      "block_13_project_BN (BatchNorma (None, 7, 7, 160)    640         block_13_project[0][0]           \n",
      "__________________________________________________________________________________________________\n",
      "block_14_expand (Conv2D)        (None, 7, 7, 960)    153600      block_13_project_BN[0][0]        \n",
      "__________________________________________________________________________________________________\n",
      "block_14_expand_BN (BatchNormal (None, 7, 7, 960)    3840        block_14_expand[0][0]            \n",
      "__________________________________________________________________________________________________\n",
      "block_14_expand_relu (Activatio (None, 7, 7, 960)    0           block_14_expand_BN[0][0]         \n",
      "__________________________________________________________________________________________________\n",
      "block_14_depthwise (DepthwiseCo (None, 7, 7, 960)    8640        block_14_expand_relu[0][0]       \n",
      "__________________________________________________________________________________________________\n",
      "block_14_depthwise_BN (BatchNor (None, 7, 7, 960)    3840        block_14_depthwise[0][0]         \n",
      "__________________________________________________________________________________________________\n",
      "block_14_depthwise_relu (Activa (None, 7, 7, 960)    0           block_14_depthwise_BN[0][0]      \n",
      "__________________________________________________________________________________________________\n",
      "block_14_project (Conv2D)       (None, 7, 7, 160)    153600      block_14_depthwise_relu[0][0]    \n",
      "__________________________________________________________________________________________________\n",
      "block_14_project_BN (BatchNorma (None, 7, 7, 160)    640         block_14_project[0][0]           \n",
      "__________________________________________________________________________________________________\n",
      "block_14_add (Add)              (None, 7, 7, 160)    0           block_13_project_BN[0][0]        \n",
      "                                                                 block_14_project_BN[0][0]        \n",
      "__________________________________________________________________________________________________\n",
      "block_15_expand (Conv2D)        (None, 7, 7, 960)    153600      block_14_add[0][0]               \n",
      "__________________________________________________________________________________________________\n",
      "block_15_expand_BN (BatchNormal (None, 7, 7, 960)    3840        block_15_expand[0][0]            \n",
      "__________________________________________________________________________________________________\n",
      "block_15_expand_relu (Activatio (None, 7, 7, 960)    0           block_15_expand_BN[0][0]         \n",
      "__________________________________________________________________________________________________\n",
      "block_15_depthwise (DepthwiseCo (None, 7, 7, 960)    8640        block_15_expand_relu[0][0]       \n",
      "__________________________________________________________________________________________________\n",
      "block_15_depthwise_BN (BatchNor (None, 7, 7, 960)    3840        block_15_depthwise[0][0]         \n",
      "__________________________________________________________________________________________________\n",
      "block_15_depthwise_relu (Activa (None, 7, 7, 960)    0           block_15_depthwise_BN[0][0]      \n",
      "__________________________________________________________________________________________________\n",
      "block_15_project (Conv2D)       (None, 7, 7, 160)    153600      block_15_depthwise_relu[0][0]    \n",
      "__________________________________________________________________________________________________\n",
      "block_15_project_BN (BatchNorma (None, 7, 7, 160)    640         block_15_project[0][0]           \n",
      "__________________________________________________________________________________________________\n",
      "block_15_add (Add)              (None, 7, 7, 160)    0           block_14_add[0][0]               \n",
      "                                                                 block_15_project_BN[0][0]        \n",
      "__________________________________________________________________________________________________\n",
      "block_16_expand (Conv2D)        (None, 7, 7, 960)    153600      block_15_add[0][0]               \n",
      "__________________________________________________________________________________________________\n",
      "block_16_expand_BN (BatchNormal (None, 7, 7, 960)    3840        block_16_expand[0][0]            \n",
      "__________________________________________________________________________________________________\n",
      "block_16_expand_relu (Activatio (None, 7, 7, 960)    0           block_16_expand_BN[0][0]         \n",
      "__________________________________________________________________________________________________\n",
      "block_16_depthwise (DepthwiseCo (None, 7, 7, 960)    8640        block_16_expand_relu[0][0]       \n",
      "__________________________________________________________________________________________________\n",
      "block_16_depthwise_BN (BatchNor (None, 7, 7, 960)    3840        block_16_depthwise[0][0]         \n",
      "__________________________________________________________________________________________________\n",
      "block_16_depthwise_relu (Activa (None, 7, 7, 960)    0           block_16_depthwise_BN[0][0]      \n",
      "__________________________________________________________________________________________________\n",
      "block_16_project (Conv2D)       (None, 7, 7, 320)    307200      block_16_depthwise_relu[0][0]    \n",
      "__________________________________________________________________________________________________\n",
      "block_16_project_BN (BatchNorma (None, 7, 7, 320)    1280        block_16_project[0][0]           \n",
      "__________________________________________________________________________________________________\n",
      "Conv_1 (Conv2D)                 (None, 7, 7, 1280)   409600      block_16_project_BN[0][0]        \n",
      "__________________________________________________________________________________________________\n",
      "Conv_1_bn (BatchNormalization)  (None, 7, 7, 1280)   5120        Conv_1[0][0]                     \n",
      "__________________________________________________________________________________________________\n",
      "out_relu (Activation)           (None, 7, 7, 1280)   0           Conv_1_bn[0][0]                  \n",
      "__________________________________________________________________________________________________\n",
      "global_average_pooling2d_1 (Glo (None, 1280)         0           out_relu[0][0]                   \n",
      "__________________________________________________________________________________________________\n",
      "dense_1 (Dense)                 (None, 1)            1281        global_average_pooling2d_1[0][0] \n",
      "==================================================================================================\n",
      "Total params: 2,259,265\n",
      "Trainable params: 2,225,153\n",
      "Non-trainable params: 34,112\n",
      "__________________________________________________________________________________________________\n"
     ]
    }
   ],
   "source": [
    "model_final.summary()"
   ]
  },
  {
   "cell_type": "code",
   "execution_count": null,
   "metadata": {},
   "outputs": [],
   "source": []
  }
 ],
 "metadata": {
  "kernelspec": {
   "display_name": "Python [conda root]",
   "language": "python",
   "name": "conda-root-py"
  },
  "language_info": {
   "codemirror_mode": {
    "name": "ipython",
    "version": 3
   },
   "file_extension": ".py",
   "mimetype": "text/x-python",
   "name": "python",
   "nbconvert_exporter": "python",
   "pygments_lexer": "ipython3",
   "version": "3.5.4"
  }
 },
 "nbformat": 4,
 "nbformat_minor": 2
}
